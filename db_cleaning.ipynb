{
 "cells": [
  {
   "cell_type": "markdown",
   "metadata": {},
   "source": [
    "## Data Cleaning from MongoDB datasets exports .CSV to JSON file\n",
    "\n",
    "It takes >60 minutes to process and clean the 1.5 Million Tweets from .CSV extractec from MongoDB as described the purposes in the report. But as the min_tweet.json is generated there's no reason to generated again for this project p"
   ]
  },
  {
   "cell_type": "code",
   "execution_count": null,
   "metadata": {},
   "outputs": [],
   "source": [
    "from nltk.tokenize import word_tokenize\n",
    "import stopword\n"
   ]
  },
  {
   "cell_type": "code",
   "execution_count": 23,
   "metadata": {},
   "outputs": [],
   "source": [
    "# Clean tweets text by Colums Full_Text or Full Tweet and English language\n",
    "def clean(data):\n",
    "    \n",
    "    english = data[data['lang']=='en']\n",
    "    english.drop_duplicates() \n",
    "    english['full_text'].dropna(inplace=True) \n",
    "    token = english['full_text'].apply(tokenizer) \n",
    "    \n",
    "    \n",
    "    token_lowcase = token.apply(lambda x: [t.lower() for t in x])\n",
    "    punctuations = token_lowcase.apply(lambda x: [t for t in x if t.isalpha()]) \n",
    "    no_stopWords = punctuations.apply(lambda x: [t for t in x if t not in stopwords.words('english')])\n",
    "    \n",
    "    return no_stopWords"
   ]
  },
  {
   "cell_type": "code",
   "execution_count": null,
   "metadata": {},
   "outputs": [],
   "source": [
    "# Tokenize tweets by word\n",
    "def tokenizer(full_text):\n",
    "    if not text:\n",
    "        print('Tokenizer is Null.')\n",
    "        text = ''\n",
    "    return word_tokenize(text)"
   ]
  },
  {
   "cell_type": "code",
   "execution_count": null,
   "metadata": {},
   "outputs": [],
   "source": [
    "# Read .CSV file and create the list of words\n",
    "colums = ['text', 'lang']\n",
    "path = 'tweets.csv'\n",
    "\n",
    "small_list = []\n",
    "\n",
    "itr = pd.read_csv(path, usecols=colums, chunksize=100000)\n",
    "\n",
    "for shard in itr:\n",
    "    filterShard = clean(shard)\n",
    "    small_list.append(filterShard)\n",
    "minData = pd.concat(small_list)"
   ]
  },
  {
   "cell_type": "code",
   "execution_count": 37,
   "metadata": {},
   "outputs": [],
   "source": [
    "# Export the list of words by colums Full_text and Lang\n",
    "path = 'min_tweets.json'\n",
    "minData.to_json(path, orient='table')"
   ]
  }
 ],
 "metadata": {
  "kernelspec": {
   "display_name": "Python 3",
   "language": "python",
   "name": "python3"
  },
  "language_info": {
   "codemirror_mode": {
    "name": "ipython",
    "version": 3
   },
   "file_extension": ".py",
   "mimetype": "text/x-python",
   "name": "python",
   "nbconvert_exporter": "python",
   "pygments_lexer": "ipython3",
   "version": "3.8.3"
  }
 },
 "nbformat": 4,
 "nbformat_minor": 4
}
